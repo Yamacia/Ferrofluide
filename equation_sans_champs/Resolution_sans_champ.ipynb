{
 "cells": [
  {
   "cell_type": "markdown",
   "metadata": {},
   "source": [
    "## Controle magnétique d'Interfaces Liquides"
   ]
  },
  {
   "cell_type": "markdown",
   "metadata": {},
   "source": [
    "### Résolution sans champ magnétique"
   ]
  },
  {
   "cell_type": "code",
   "execution_count": 1,
   "metadata": {},
   "outputs": [],
   "source": [
    "import numpy as np\n",
    "import matplotlib.pyplot as plt"
   ]
  },
  {
   "cell_type": "markdown",
   "metadata": {},
   "source": [
    "Initialisation des constantes"
   ]
  },
  {
   "cell_type": "code",
   "execution_count": 2,
   "metadata": {},
   "outputs": [
    {
     "name": "stdout",
     "output_type": "stream",
     "text": [
      "La taille de la cuve est de 0.04789131426105757 m\n"
     ]
    },
    {
     "data": {
      "text/plain": [
       "0.004789131426105757"
      ]
     },
     "execution_count": 2,
     "metadata": {},
     "output_type": "execute_result"
    }
   ],
   "source": [
    "g = 9.81      \n",
    "\n",
    "#delta = rho2 - rho1    avec rho2 eau et rho1 huile       \n",
    "delta = 80.0 #eau/ huile\n",
    "\n",
    "#gamma = tension de surface\n",
    "gamma = 0.018 #eau/huile\n",
    "\n",
    "#lc = longueur capilaire\n",
    "lc = np.sqrt(gamma/(delta*g))\n",
    "\n",
    "#d = longueur de la cuve\n",
    "d = 10*lc\n",
    "\n",
    "eps = -0.1 #arbitraire et petit\n",
    "\n",
    "print(\"La taille de la cuve est de\",d,\"m\")\n",
    "lc\n"
   ]
  },
  {
   "cell_type": "markdown",
   "metadata": {},
   "source": [
    "Solution exacte de l'équation :\n",
    "$$\\eta(x) = -\\exp(\\frac{-x}{l_{c}})l_{c}tan(\\epsilon)\\frac{(1 + \\exp{\\frac{d}{l_{c}}})}{\\exp{\\frac{d}{l_{c}}-\\exp(\\frac{-d}{l_{c}})}} -\\exp(\\frac{x}{l_{c}})l_{c}tan(\\epsilon)\\frac{(1 + \\exp{\\frac{-d}{l_{c}}})}{\\exp{\\frac{d}{l_{c}}}-\\exp(\\frac{-d}{l_{c}})}$$"
   ]
  },
  {
   "cell_type": "code",
   "execution_count": 3,
   "metadata": {},
   "outputs": [
    {
     "name": "stdout",
     "output_type": "stream",
     "text": [
      "Hauteur aux parois de la cuve 0.0004805595639724251 et 0.0004805595639724251 m\n"
     ]
    }
   ],
   "source": [
    "def eta(x):\n",
    "    return -np.exp(-x/lc)*(lc*np.tan(eps)*(1+np.exp(d/lc)))/(np.exp(d/lc)-np.exp(-d/lc)) - np.exp(x/lc)*lc*np.tan(eps)*(1+np.exp(-d/lc))/(np.exp(d/lc)-np.exp(-d/lc))\n",
    "\n",
    "print(\"Hauteur aux parois de la cuve\",eta(0),\"et\",eta(d),\"m\")\n",
    "\n"
   ]
  },
  {
   "cell_type": "code",
   "execution_count": 4,
   "metadata": {},
   "outputs": [
    {
     "data": {
      "image/png": "[encoded data removed]",
      "text/plain": [
       "<Figure size 432x288 with 1 Axes>"
      ]
     },
     "metadata": {
      "needs_background": "light"
     },
     "output_type": "display_data"
    }
   ],
   "source": [
    "x = np.arange(0,d,0.0001)\n",
    "\n",
    "plt.plot(x,eta(x),label = 'eta(x)')\n",
    "plt.title('Courbe de la hauteur du fluide')\n",
    "plt.xlabel(\"x\")\n",
    "plt.ylabel(\"eta(x)\")\n",
    "plt.legend()\n",
    "plt.show()"
   ]
  },
  {
   "cell_type": "markdown",
   "metadata": {},
   "source": [
    "------"
   ]
  },
  {
   "cell_type": "markdown",
   "metadata": {},
   "source": [
    "-----"
   ]
  },
  {
   "cell_type": "markdown",
   "metadata": {},
   "source": [
    "Conditions limites"
   ]
  },
  {
   "cell_type": "code",
   "execution_count": 5,
   "metadata": {},
   "outputs": [],
   "source": [
    "eta0p = np.tan(eps) #connu\n",
    "etadp = -np.tan(eps) #connu, à comparer avec valeur trouvée"
   ]
  },
  {
   "cell_type": "markdown",
   "metadata": {},
   "source": [
    "### EULER EXPLICITE"
   ]
  },
  {
   "cell_type": "code",
   "execution_count": 6,
   "metadata": {},
   "outputs": [
    {
     "data": {
      "image/png": "[encoded data removed]",
      "text/plain": [
       "<Figure size 432x288 with 1 Axes>"
      ]
     },
     "metadata": {
      "needs_background": "light"
     },
     "output_type": "display_data"
    },
    {
     "name": "stdout",
     "output_type": "stream",
     "text": [
      "comparaison pente aux paroi: -184.04998849901435 =? 0.10033467208545055\n",
      "pourcentage d'erreur 183536.0791474628\n"
     ]
    }
   ],
   "source": [
    "#h = le pas\n",
    "h = lc/1000\n",
    "\n",
    "x_euler = np.arange(0,d,h)\n",
    "\n",
    "eta0 = 0.0004  #premier point\n",
    "eta1 = eta0 + (x_euler[1] - x_euler[0])*eta0p #deuxieme point (trouvé grace au premier point et la pente)\n",
    "\n",
    "def eulerexplicite(f,x,u0):\n",
    "    eta = np.zeros((x.size,u0.size))\n",
    "    h = x[1] - x[0]\n",
    "    eta[0] = u0\n",
    "\n",
    "    for i in range(1,x.size):\n",
    "        eta[i] = eta[i-1] + h*f(x[i-1],eta[i-1])\n",
    "\n",
    "    return eta\n",
    "\n",
    "def f(t,u):\n",
    "    return np.array([u[1], u[0]*g*delta/gamma])\n",
    "\n",
    "\n",
    "u0 = np.array([eta0,eta0p]) \n",
    "eta_euler = eulerexplicite(f,x_euler,u0)\n",
    "\n",
    "\n",
    "\n",
    "plt.plot(x_euler,eta_euler[:,0])\n",
    "plt.title(\"Méthode d'Euler explicite\")\n",
    "plt.show()\n",
    "\n",
    "print(\"comparaison pente aux paroi:\",eta_euler[-1,1],\"=?\",etadp)\n",
    "print(\"pourcentage d'erreur\",abs((etadp - eta_euler[-1,1] )/etadp *100))\n",
    "\n"
   ]
  },
  {
   "cell_type": "markdown",
   "metadata": {},
   "source": [
    "On fait une étude de convergence afin que la méthode choisie ne soit plus dépendente du pas. Ainsi, on compare etadp trouvé avec etadp (condition lim) et si l'erreur entre les deux est inf 5% alors le pas est dans l'intervalle de convergence"
   ]
  },
  {
   "cell_type": "code",
   "execution_count": 7,
   "metadata": {},
   "outputs": [
    {
     "name": "stdout",
     "output_type": "stream",
     "text": [
      "0.0987159434245712 =? 0.10033467208545055\n",
      "pas trouvé pour 1.6133292980723075 '%' d'erreur : 1.4789131426105757e-05\n"
     ]
    }
   ],
   "source": [
    "\n",
    "#pas initial\n",
    "h_c = lc/1000\n",
    "\n",
    "\n",
    "x_euler_c = np.arange(0,d,h_c)\n",
    "eta0 = 0.0004\n",
    "eta1 = eta0 + (x_euler_c[1] - x_euler_c[0])*eta0p \n",
    "\n",
    "u0 = np.array([eta0,eta0p]) \n",
    "eta_euler = eulerexplicite(f,x_euler_c,u0)\n",
    "\n",
    "while(abs((eta_euler[-1,1] - etadp)/etadp *100)>5):\n",
    "    h_c = h_c + 0.00001 #precision\n",
    "\n",
    "    x_euler_c = np.arange(0,d,h_c)\n",
    "    eta0 = eta(0)\n",
    "    eta1 = eta0 + (x_euler_c[1] - x_euler_c[0])*eta0p \n",
    "\n",
    "    u0 = np.array([eta0,eta0p]) \n",
    "    eta_euler = eulerexplicite(f,x_euler_c,u0)\n",
    "\n",
    "\n",
    "\n",
    "\n",
    "print(eta_euler[-1,1],\"=?\",etadp)\n",
    "p_erreur = abs((etadp - eta_euler[-1,1] )/etadp *100) #pourcentage erreur\n",
    "\n",
    "print(\"pas trouvé pour\",p_erreur,\"'%' d'erreur :\",h_c)"
   ]
  },
  {
   "cell_type": "markdown",
   "metadata": {},
   "source": [
    "On trouve ainsi que le pas h vaut"
   ]
  },
  {
   "cell_type": "markdown",
   "metadata": {},
   "source": [
    "### Méthode de dichotomie pour retrouver eta0"
   ]
  },
  {
   "cell_type": "code",
   "execution_count": 8,
   "metadata": {},
   "outputs": [
    {
     "name": "stdout",
     "output_type": "stream",
     "text": [
      "Eta0 trouvé par dichotomie: 0.00048055986328125 ?= 0.0004805595639724251 la valeur analytique\n"
     ]
    }
   ],
   "source": [
    "\n",
    "a = 0.0004806  #precision necessaire : 6 à 7 chiffres après la virgule\n",
    "ua = np.array([a,eta0p])\n",
    "b = 0.0004804\n",
    "ub = np.array([b,eta0p])\n",
    "\n",
    "#premieres courbes de la methode de dichotomie\n",
    "euler_a = eulerexplicite(f,x_euler,ua) \n",
    "euler_b = eulerexplicite(f,x_euler,ub)\n",
    "\n",
    "nb = 0\n",
    "\n",
    "c = (a+b)/2\n",
    "uc = np.array([c,eta0p])\n",
    "euler_c = eulerexplicite(f,x_euler,uc)\n",
    "\n",
    "while(np.abs(euler_c[-1,1] - etadp)> 1e-4 and nb<10000):\n",
    "\n",
    "    if (euler_c[-1,1] < etadp):\n",
    "        b = c\n",
    "\n",
    "    if (euler_c[-1,1] > etadp):\n",
    "        a = c\n",
    "    \n",
    "    c = (a+b)/2\n",
    "    uc = np.array([c,eta0p])\n",
    "    euler_c = eulerexplicite(f,x_euler,uc)\n",
    "    \n",
    "    nb = nb + 1\n",
    "\n",
    "print(\"Eta0 trouvé par dichotomie:\",c,\"?=\",eta(0),\"la valeur analytique\")\n",
    "\n"
   ]
  },
  {
   "cell_type": "code",
   "execution_count": 9,
   "metadata": {},
   "outputs": [
    {
     "data": {
      "image/png": "[encoded data removed]",
      "text/plain": [
       "<Figure size 432x288 with 1 Axes>"
      ]
     },
     "metadata": {
      "needs_background": "light"
     },
     "output_type": "display_data"
    }
   ],
   "source": [
    "plt.plot(x_euler,eta(x_euler),label = 'eta(x)')\n",
    "plt.plot(x_euler,euler_a[:,0],label=\"euler 1\")\n",
    "plt.plot(x_euler,euler_b[:,0],label=\"euler 2\")\n",
    "plt.xlabel(\"x\")\n",
    "plt.ylabel(\"eta(x)\")\n",
    "plt.legend()\n",
    "plt.show()"
   ]
  },
  {
   "cell_type": "markdown",
   "metadata": {},
   "source": [
    "### Erreur Euler explicite avec solution exacte"
   ]
  },
  {
   "cell_type": "code",
   "execution_count": 10,
   "metadata": {},
   "outputs": [
    {
     "data": {
      "image/png": "[encoded data removed]",
      "text/plain": [
       "<Figure size 432x288 with 1 Axes>"
      ]
     },
     "metadata": {
      "needs_background": "light"
     },
     "output_type": "display_data"
    }
   ],
   "source": [
    "M = np.zeros(10)\n",
    "x = np.arange(0,d,lc)\n",
    "soln = eulerexplicite(f,x,u0)\n",
    "E1 = np.zeros(x.size)\n",
    "\n",
    "for i in range (x.size):\n",
    "    \n",
    "    E1[i] = np.abs((eta(x[i]) - soln[i,0])/eta(x[i]))\n",
    "    \n",
    "\n",
    "plt.loglog(x,E1,label='erreur')\n",
    "plt.xlabel(\"$h$\")\n",
    "plt.ylabel(\"$E(f)$\")\n",
    "plt.title('Erreur solution en chaque point pour un pas donné')\n",
    "plt.legend()\n",
    "plt.show()\n"
   ]
  },
  {
   "cell_type": "code",
   "execution_count": 19,
   "metadata": {},
   "outputs": [
    {
     "data": {
      "image/png": "[encoded data removed]",
      "text/plain": [
       "<Figure size 432x288 with 1 Axes>"
      ]
     },
     "metadata": {
      "needs_background": "light"
     },
     "output_type": "display_data"
    },
    {
     "name": "stdout",
     "output_type": "stream",
     "text": [
      "Le pas optimal est  0.00021 pour un seuil d'erreur à 0.1\n"
     ]
    }
   ],
   "source": [
    "h = np.linspace(1e-4,lc,100)\n",
    "eta0 = eta(0)\n",
    "M = np.zeros(h.size)\n",
    "u0 = np.array([eta0,eta0p]) \n",
    "\n",
    "\n",
    "for i in range (h.size):\n",
    "    x = np.arange(0,d,h[i])\n",
    "    soln = eulerexplicite(f,x,u0)\n",
    "    E = 0\n",
    "    for j in range (x.size):\n",
    "        \n",
    "        E = E + np.abs((eta(x[j]) - soln[j,0])/eta(x[j])) \n",
    "    \n",
    "   \n",
    "    M[i] = E/j #erreur moyenne\n",
    "    \n",
    "\n",
    "seuil = np.ones(h.size)\n",
    "for i in range (h.size):\n",
    "    seuil[i] = 0.1\n",
    "\n",
    "h_opti = np.ones(h.size)\n",
    "for i in range (h.size):\n",
    "    h_opti[i] = 0.00021\n",
    "\n",
    "plt.loglog(h,M,color='blue')\n",
    "plt.loglog(h,M,'+',label='erreur',color='black')\n",
    "plt.loglog(h,seuil,label='seuil')\n",
    "plt.loglog(h_opti,M)  \n",
    "plt.xlabel(\"h \")\n",
    "plt.ylabel(\"$E(f)$\")\n",
    "plt.title('Erreur solution en fonction du pas')\n",
    "plt.legend()\n",
    "plt.show()\n",
    "    \n",
    "\n",
    "print(\"Le pas optimal est \",h_opti[1],\"pour un seuil d'erreur à 0.1\")\n"
   ]
  },
  {
   "cell_type": "markdown",
   "metadata": {},
   "source": [
    "Pour chaque pas on calcule la moyenne des erreurs de la méthode d'Euler"
   ]
  },
  {
   "cell_type": "markdown",
   "metadata": {},
   "source": [
    "-----"
   ]
  },
  {
   "cell_type": "markdown",
   "metadata": {},
   "source": [
    "----"
   ]
  },
  {
   "cell_type": "markdown",
   "metadata": {},
   "source": [
    "### Piste de recherches non aboutie"
   ]
  },
  {
   "cell_type": "markdown",
   "metadata": {},
   "source": [
    "Erreur Euler explicite sans solution exacte"
   ]
  },
  {
   "cell_type": "code",
   "execution_count": 12,
   "metadata": {},
   "outputs": [
    {
     "name": "stdout",
     "output_type": "stream",
     "text": [
      "100\n"
     ]
    },
    {
     "ename": "ValueError",
     "evalue": "operands could not be broadcast together with shapes (325,2) (479,2) ",
     "output_type": "error",
     "traceback": [
      "\u001b[1;31m---------------------------------------------------------------------------\u001b[0m",
      "\u001b[1;31mValueError\u001b[0m                                Traceback (most recent call last)",
      "\u001b[1;32m~\\AppData\\Local\\Temp/ipykernel_51508/1391592040.py\u001b[0m in \u001b[0;36m<module>\u001b[1;34m\u001b[0m\n\u001b[0;32m     10\u001b[0m     \u001b[0msoln1\u001b[0m \u001b[1;33m=\u001b[0m \u001b[0meulerexplicite\u001b[0m\u001b[1;33m(\u001b[0m\u001b[0mf\u001b[0m\u001b[1;33m,\u001b[0m\u001b[0mxn1\u001b[0m\u001b[1;33m,\u001b[0m\u001b[0mu0\u001b[0m\u001b[1;33m)\u001b[0m\u001b[1;33m\u001b[0m\u001b[1;33m\u001b[0m\u001b[0m\n\u001b[0;32m     11\u001b[0m \u001b[1;33m\u001b[0m\u001b[0m\n\u001b[1;32m---> 12\u001b[1;33m     \u001b[0mEr\u001b[0m\u001b[1;33m[\u001b[0m\u001b[0mi\u001b[0m\u001b[1;33m]\u001b[0m\u001b[1;33m=\u001b[0m\u001b[0mnp\u001b[0m\u001b[1;33m.\u001b[0m\u001b[0mmax\u001b[0m\u001b[1;33m(\u001b[0m\u001b[0mnp\u001b[0m\u001b[1;33m.\u001b[0m\u001b[0mabs\u001b[0m\u001b[1;33m(\u001b[0m\u001b[1;33m(\u001b[0m\u001b[0msoln1\u001b[0m \u001b[1;33m-\u001b[0m \u001b[0msoln\u001b[0m\u001b[1;33m)\u001b[0m\u001b[1;33m/\u001b[0m\u001b[0msoln1\u001b[0m\u001b[1;33m)\u001b[0m\u001b[1;33m)\u001b[0m\u001b[1;33m\u001b[0m\u001b[1;33m\u001b[0m\u001b[0m\n\u001b[0m\u001b[0;32m     13\u001b[0m \u001b[1;33m\u001b[0m\u001b[0m\n\u001b[0;32m     14\u001b[0m \u001b[1;33m\u001b[0m\u001b[0m\n",
      "\u001b[1;31mValueError\u001b[0m: operands could not be broadcast together with shapes (325,2) (479,2) "
     ]
    }
   ],
   "source": [
    "h = np.linspace(1e-4,lc,100)\n",
    "print(h.size)\n",
    "Er = np.zeros(h.size-1)\n",
    "\n",
    "\n",
    "for i in range (h.size):\n",
    "    xn = np.arange(0,d,h[i])\n",
    "    soln = eulerexplicite(f,xn,u0)\n",
    "    xn1 = np.arange(0,d,h[i+1])\n",
    "    soln1 = eulerexplicite(f,xn1,u0)\n",
    "    \n",
    "    Er[i]=np.max(np.abs((soln1 - soln)/soln1))\n",
    "    \n",
    "   \n",
    "## pb les solutions n'ont pas le même nb de points\n",
    "\n",
    "\n",
    "plt.loglog(h,M,label='erreur')\n",
    "plt.xlabel(\"h \")\n",
    "plt.ylabel(\"$E(f)$\")\n",
    "plt.title('Erreur solution en fonction du pas')\n",
    "plt.legend()\n",
    "plt.show()"
   ]
  },
  {
   "cell_type": "markdown",
   "metadata": {},
   "source": [
    "RUNGE-KUTTA"
   ]
  },
  {
   "cell_type": "code",
   "execution_count": null,
   "metadata": {},
   "outputs": [
    {
     "data": {
      "image/png": "[encoded data removed]",
      "text/plain": [
       "<Figure size 432x288 with 1 Axes>"
      ]
     },
     "metadata": {
      "needs_background": "light"
     },
     "output_type": "display_data"
    }
   ],
   "source": [
    "\n",
    "def RK4(f,t,mu0):\n",
    "    u = np.array([mu0]*t.size,dtype=float)\n",
    "    for i in range(1,t.size):\n",
    "        dt = t[i] - t[i-1]\n",
    "        p1 = f(t[i-1],u[i-1])\n",
    "        p2 = f(t[i-1] + dt/2, u[i-1] + dt/2*p1)\n",
    "        p3 = f(t[i-1] + dt/2, u[i-1] + dt/2*p2)\n",
    "        p4 = f(t[i-1] + dt  , u[i-1] + dt  *p3)\n",
    "        u[i] = u[i-1] + dt/6*(p1 + 2*p2 + 2*p3 + p4)\n",
    "    return u\n",
    "    \n",
    "\n",
    "\n",
    "x = np.arange(0,d,lc)\n",
    "u0 = np.array([0.0004,-0.1])\n",
    "\n",
    "solRK4 = RK4(f,x,u0)\n",
    "\n",
    "\n",
    "plt.plot(x,solRK4[:,0], label=\"RK4\")\n",
    "plt.xlabel(\"x\")\n",
    "plt.ylabel(\"eta\")\n",
    "plt.legend()\n",
    "plt.show()\n",
    "\n"
   ]
  },
  {
   "cell_type": "markdown",
   "metadata": {},
   "source": [
    "----"
   ]
  },
  {
   "cell_type": "markdown",
   "metadata": {},
   "source": [
    "____"
   ]
  }
 ],
 "metadata": {
  "interpreter": {
   "hash": "20ae9c1c8e984f1c00eb9a15ed1f977975f8823bef945d8ebe7990f55a75853b"
  },
  "kernelspec": {
   "display_name": "Python 3.9.12 64-bit (windows store)",
   "language": "python",
   "name": "python3"
  },
  "language_info": {
   "codemirror_mode": {
    "name": "ipython",
    "version": 3
   },
   "file_extension": ".py",
   "mimetype": "text/x-python",
   "name": "python",
   "nbconvert_exporter": "python",
   "pygments_lexer": "ipython3",
   "version": "3.9.13"
  },
  "orig_nbformat": 4
 },
 "nbformat": 4,
 "nbformat_minor": 2
}
